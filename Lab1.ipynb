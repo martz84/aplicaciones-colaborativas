{
  "cells": [
    {
      "cell_type": "markdown",
      "id": "b016a10e-849d-400a-a9fa-9f0d14897844",
      "metadata": {
        "id": "b016a10e-849d-400a-a9fa-9f0d14897844"
      },
      "source": [
        "# UNIVERSIDAD TÉCNICA PARTICULAR DE LOJA\n",
        "\n",
        "## Título: Uso de aplicaciones colaborativas para el uso de herramientas de inteligencia artificial\n",
        "\n",
        "### Autor: Jorge Martinez\n"
      ]
    },
    {
      "cell_type": "markdown",
      "id": "620df92a-5487-4859-a2ce-7824d0430287",
      "metadata": {
        "id": "620df92a-5487-4859-a2ce-7824d0430287"
      },
      "source": [
        "---\n",
        "\n",
        "### Detalles del dataset seleccionado:\n",
        "**Título**: Accelerometer Data Set\n",
        "\n",
        "## Introducción\n",
        "\n",
        "En esta actividad se analiza un conjunto de datos obtenidos de un acelerómetro conectado a un ventilador en diferentes configuraciones de peso y velocidad. El objetivo es aplicar herramientas de inteligencia artificial para transformar y visualizar los datos, generando nuevas columnas a partir de las lecturas originales y detectando patrones de movimiento.\n",
        "\n",
        "\n",
        "##### Contexto\n",
        "Este conjunto de datos se generó para el proyecto «Predicción del tiempo de fallo del motor mediante una red neuronal artificial» (DOI: 10.3390/s19194342). Se utilizó un ventilador con pesos en las aspas para generar vibraciones. A este ventilador se le conectó un acelerómetro para recopilar los datos de vibración. Con estos datos, se realizaron predicciones del tiempo de fallo del motor mediante redes neuronales artificiales. Para generar tres escenarios de vibración distintos, los pesos se distribuyeron de tres maneras diferentes: 1) «rojo» - configuración normal: dos pesos colocados en aspas adyacentes; 2) «azul» - configuración perpendicular: dos pesos colocados en aspas formando un ángulo de 90°; 3) «verde» - configuración opuesta: dos pesos colocados en aspas opuestas. Se puede ver un diagrama esquemático en la figura 3 del artículo.\n",
        "\n",
        "Dispositivos utilizados:\n",
        "Ventilador Akasa AK-FN059 Viper de 12 cm (Generación de vibraciones)\n",
        "Acelerómetro MMA8452Q (Medición de vibraciones)\n",
        "\n",
        "Método de recopilación de datos:\n",
        "Se configuraron 17 velocidades de rotación, que oscilaban entre el 20 % y el 100 % de la velocidad máxima del enfriador, a intervalos del 5 %, para las tres configuraciones de distribución de peso en las aspas del enfriador. Cabe destacar que el enfriador Akasa AK-FN059 tiene una velocidad de rotación máxima de 1900 rpm.\n",
        "\n",
        "Las mediciones de vibración se recopilaron a una frecuencia de 20 ms durante 1 min para cada porcentaje, generando 3000 registros por velocidad. Por lo tanto, se recopilaron un total de 153 000 registros de vibración del modelo de simulación.\n",
        "\n",
        "### Significado de cada Columna:\n",
        "* wconfid : ID de configuración de peso (1 - 'rojo' - configuración normal; 2 - 'azul' - configuración perpendicular; 3 - 'verde'\n",
        "* pctid: El porcentaje de velocidad RPM del ventilador del enfriador es (20 significa 20 %, y así sucesivamente).\n",
        "* x: Valor x del acelerómetro.\n",
        "* y: Valor y del acelerómetro.\n",
        "* z: Valor z del acelerómetro.\n",
        "\n",
        "#### Fuente: https://www.kaggle.com/datasets/dhinaharp/accelerometer-data-set"
      ]
    },
    {
      "cell_type": "code",
      "execution_count": null,
      "id": "047f305a-11d8-4201-b472-e32dbbbe06cb",
      "metadata": {
        "id": "047f305a-11d8-4201-b472-e32dbbbe06cb"
      },
      "outputs": [],
      "source": [
        "# Importaciion de librerias\n",
        "import pandas as pd\n",
        "import numpy as np\n",
        "import matplotlib.pyplot as plt"
      ]
    },
    {
      "cell_type": "markdown",
      "id": "a538c31e-c2fc-48a0-a91c-72a013faa56a",
      "metadata": {
        "id": "a538c31e-c2fc-48a0-a91c-72a013faa56a"
      },
      "source": [
        "## Carga del Conjunto de Datos\n",
        "\n",
        "Se utiliza la librería `pandas` para cargar el archivo `accelerometer.csv` y se muestran las primeras filas del DataFrame. También se revisa la estructura general de los datos y se confirma que no existen valores nulos.\n"
      ]
    },
    {
      "cell_type": "code",
      "execution_count": null,
      "id": "a5a3ce54-76f1-4cb0-b6e5-1d42d4aaa7ae",
      "metadata": {
        "scrolled": true,
        "id": "a5a3ce54-76f1-4cb0-b6e5-1d42d4aaa7ae",
        "outputId": "139be8d6-9d09-49c6-d871-bf789ae4f428"
      },
      "outputs": [
        {
          "data": {
            "text/html": [
              "<div>\n",
              "<style scoped>\n",
              "    .dataframe tbody tr th:only-of-type {\n",
              "        vertical-align: middle;\n",
              "    }\n",
              "\n",
              "    .dataframe tbody tr th {\n",
              "        vertical-align: top;\n",
              "    }\n",
              "\n",
              "    .dataframe thead th {\n",
              "        text-align: right;\n",
              "    }\n",
              "</style>\n",
              "<table border=\"1\" class=\"dataframe\">\n",
              "  <thead>\n",
              "    <tr style=\"text-align: right;\">\n",
              "      <th></th>\n",
              "      <th>wconfid</th>\n",
              "      <th>pctid</th>\n",
              "      <th>x</th>\n",
              "      <th>y</th>\n",
              "      <th>z</th>\n",
              "    </tr>\n",
              "  </thead>\n",
              "  <tbody>\n",
              "    <tr>\n",
              "      <th>0</th>\n",
              "      <td>1</td>\n",
              "      <td>20</td>\n",
              "      <td>1.004</td>\n",
              "      <td>0.090</td>\n",
              "      <td>-0.125</td>\n",
              "    </tr>\n",
              "    <tr>\n",
              "      <th>1</th>\n",
              "      <td>1</td>\n",
              "      <td>20</td>\n",
              "      <td>1.004</td>\n",
              "      <td>-0.043</td>\n",
              "      <td>-0.125</td>\n",
              "    </tr>\n",
              "    <tr>\n",
              "      <th>2</th>\n",
              "      <td>1</td>\n",
              "      <td>20</td>\n",
              "      <td>0.969</td>\n",
              "      <td>0.090</td>\n",
              "      <td>-0.121</td>\n",
              "    </tr>\n",
              "    <tr>\n",
              "      <th>3</th>\n",
              "      <td>1</td>\n",
              "      <td>20</td>\n",
              "      <td>0.973</td>\n",
              "      <td>-0.012</td>\n",
              "      <td>-0.137</td>\n",
              "    </tr>\n",
              "    <tr>\n",
              "      <th>4</th>\n",
              "      <td>1</td>\n",
              "      <td>20</td>\n",
              "      <td>1.000</td>\n",
              "      <td>-0.016</td>\n",
              "      <td>-0.121</td>\n",
              "    </tr>\n",
              "  </tbody>\n",
              "</table>\n",
              "</div>"
            ],
            "text/plain": [
              "   wconfid  pctid      x      y      z\n",
              "0        1     20  1.004  0.090 -0.125\n",
              "1        1     20  1.004 -0.043 -0.125\n",
              "2        1     20  0.969  0.090 -0.121\n",
              "3        1     20  0.973 -0.012 -0.137\n",
              "4        1     20  1.000 -0.016 -0.121"
            ]
          },
          "execution_count": 22,
          "metadata": {},
          "output_type": "execute_result"
        }
      ],
      "source": [
        "df = pd.read_csv('accelerometer.csv')\n",
        "df.head()"
      ]
    },
    {
      "cell_type": "markdown",
      "id": "63cc36d4-858b-4ee7-a3c1-8d926562b6af",
      "metadata": {
        "id": "63cc36d4-858b-4ee7-a3c1-8d926562b6af"
      },
      "source": [
        "#### Imprimir la informacion del dataframe"
      ]
    },
    {
      "cell_type": "code",
      "execution_count": null,
      "id": "32e02bbe-3893-487e-9cc3-b5afdc8fda1e",
      "metadata": {
        "id": "32e02bbe-3893-487e-9cc3-b5afdc8fda1e",
        "outputId": "7aefc521-6efd-445c-f44e-866a9aed62ff"
      },
      "outputs": [
        {
          "name": "stdout",
          "output_type": "stream",
          "text": [
            "<class 'pandas.core.frame.DataFrame'>\n",
            "RangeIndex: 153000 entries, 0 to 152999\n",
            "Data columns (total 5 columns):\n",
            " #   Column   Non-Null Count   Dtype  \n",
            "---  ------   --------------   -----  \n",
            " 0   wconfid  153000 non-null  int64  \n",
            " 1   pctid    153000 non-null  int64  \n",
            " 2   x        153000 non-null  float64\n",
            " 3   y        153000 non-null  float64\n",
            " 4   z        153000 non-null  float64\n",
            "dtypes: float64(3), int64(2)\n",
            "memory usage: 5.8 MB\n"
          ]
        }
      ],
      "source": [
        "df.info()"
      ]
    },
    {
      "cell_type": "code",
      "execution_count": null,
      "id": "79fe500a-c86c-4dad-855f-f56490d5335f",
      "metadata": {
        "id": "79fe500a-c86c-4dad-855f-f56490d5335f",
        "outputId": "093ed55a-b3cd-4ad6-daf3-3180b17e7dc1"
      },
      "outputs": [
        {
          "data": {
            "text/html": [
              "<div>\n",
              "<style scoped>\n",
              "    .dataframe tbody tr th:only-of-type {\n",
              "        vertical-align: middle;\n",
              "    }\n",
              "\n",
              "    .dataframe tbody tr th {\n",
              "        vertical-align: top;\n",
              "    }\n",
              "\n",
              "    .dataframe thead th {\n",
              "        text-align: right;\n",
              "    }\n",
              "</style>\n",
              "<table border=\"1\" class=\"dataframe\">\n",
              "  <thead>\n",
              "    <tr style=\"text-align: right;\">\n",
              "      <th></th>\n",
              "      <th>wconfid</th>\n",
              "      <th>pctid</th>\n",
              "      <th>x</th>\n",
              "      <th>y</th>\n",
              "      <th>z</th>\n",
              "    </tr>\n",
              "  </thead>\n",
              "  <tbody>\n",
              "    <tr>\n",
              "      <th>0</th>\n",
              "      <td>False</td>\n",
              "      <td>False</td>\n",
              "      <td>False</td>\n",
              "      <td>False</td>\n",
              "      <td>False</td>\n",
              "    </tr>\n",
              "    <tr>\n",
              "      <th>1</th>\n",
              "      <td>False</td>\n",
              "      <td>False</td>\n",
              "      <td>False</td>\n",
              "      <td>False</td>\n",
              "      <td>False</td>\n",
              "    </tr>\n",
              "    <tr>\n",
              "      <th>2</th>\n",
              "      <td>False</td>\n",
              "      <td>False</td>\n",
              "      <td>False</td>\n",
              "      <td>False</td>\n",
              "      <td>False</td>\n",
              "    </tr>\n",
              "    <tr>\n",
              "      <th>3</th>\n",
              "      <td>False</td>\n",
              "      <td>False</td>\n",
              "      <td>False</td>\n",
              "      <td>False</td>\n",
              "      <td>False</td>\n",
              "    </tr>\n",
              "    <tr>\n",
              "      <th>4</th>\n",
              "      <td>False</td>\n",
              "      <td>False</td>\n",
              "      <td>False</td>\n",
              "      <td>False</td>\n",
              "      <td>False</td>\n",
              "    </tr>\n",
              "    <tr>\n",
              "      <th>...</th>\n",
              "      <td>...</td>\n",
              "      <td>...</td>\n",
              "      <td>...</td>\n",
              "      <td>...</td>\n",
              "      <td>...</td>\n",
              "    </tr>\n",
              "    <tr>\n",
              "      <th>152995</th>\n",
              "      <td>False</td>\n",
              "      <td>False</td>\n",
              "      <td>False</td>\n",
              "      <td>False</td>\n",
              "      <td>False</td>\n",
              "    </tr>\n",
              "    <tr>\n",
              "      <th>152996</th>\n",
              "      <td>False</td>\n",
              "      <td>False</td>\n",
              "      <td>False</td>\n",
              "      <td>False</td>\n",
              "      <td>False</td>\n",
              "    </tr>\n",
              "    <tr>\n",
              "      <th>152997</th>\n",
              "      <td>False</td>\n",
              "      <td>False</td>\n",
              "      <td>False</td>\n",
              "      <td>False</td>\n",
              "      <td>False</td>\n",
              "    </tr>\n",
              "    <tr>\n",
              "      <th>152998</th>\n",
              "      <td>False</td>\n",
              "      <td>False</td>\n",
              "      <td>False</td>\n",
              "      <td>False</td>\n",
              "      <td>False</td>\n",
              "    </tr>\n",
              "    <tr>\n",
              "      <th>152999</th>\n",
              "      <td>False</td>\n",
              "      <td>False</td>\n",
              "      <td>False</td>\n",
              "      <td>False</td>\n",
              "      <td>False</td>\n",
              "    </tr>\n",
              "  </tbody>\n",
              "</table>\n",
              "<p>153000 rows × 5 columns</p>\n",
              "</div>"
            ],
            "text/plain": [
              "        wconfid  pctid      x      y      z\n",
              "0         False  False  False  False  False\n",
              "1         False  False  False  False  False\n",
              "2         False  False  False  False  False\n",
              "3         False  False  False  False  False\n",
              "4         False  False  False  False  False\n",
              "...         ...    ...    ...    ...    ...\n",
              "152995    False  False  False  False  False\n",
              "152996    False  False  False  False  False\n",
              "152997    False  False  False  False  False\n",
              "152998    False  False  False  False  False\n",
              "152999    False  False  False  False  False\n",
              "\n",
              "[153000 rows x 5 columns]"
            ]
          },
          "execution_count": 24,
          "metadata": {},
          "output_type": "execute_result"
        }
      ],
      "source": [
        "df.isnull()"
      ]
    },
    {
      "cell_type": "markdown",
      "id": "5c29692f-0b7f-4c6a-8d29-6017003113df",
      "metadata": {
        "id": "5c29692f-0b7f-4c6a-8d29-6017003113df"
      },
      "source": [
        "## Ingeniería de Características\n",
        "\n",
        "Se crean 4 nuevas columnas a partir de los datos originales:\n",
        "\n",
        "1. **`magnitude`**: Magnitud total de la aceleración.\n",
        "2. **`energy`**: Energía de la señal calculada como la suma de cuadrados.\n",
        "3. **`tilt_x`**: Ángulo de inclinación en el eje X en grados.\n",
        "4. **`motion_state`**: Estado categórico de movimiento (`Active` o `Idle`) según la magnitud.\n",
        "\n",
        "Estas características permiten entender mejor el comportamiento dinámico del sistema.\n"
      ]
    },
    {
      "cell_type": "code",
      "execution_count": null,
      "id": "b71b9ff8-d5d9-402f-abd6-1a9629d7625a",
      "metadata": {
        "id": "b71b9ff8-d5d9-402f-abd6-1a9629d7625a"
      },
      "outputs": [],
      "source": [
        "def magnitude_function(row):\n",
        "    value = np.sqrt(row['x']**2 + row['y']**2 + row['z']**2)\n",
        "    return value\n",
        "\n",
        "def compute_energy(row):\n",
        "    value = row['x']**2 + row['y']**2 + row['z']**2\n",
        "    return value\n",
        "\n",
        "def tilt_x(row):\n",
        "    value = np.arctan2(row['x'], np.sqrt(row['y']**2 + row['z']**2)) * (180 / np.pi)\n",
        "    return value\n",
        "\n",
        "def classify_motion(mag, threshold=1.1):\n",
        "    if mag >= threshold:\n",
        "        return 'Active'\n",
        "    else:\n",
        "        return 'Idle'"
      ]
    },
    {
      "cell_type": "code",
      "execution_count": null,
      "id": "1bc1694f-96a2-4b1b-8fb3-ea178aea7d12",
      "metadata": {
        "id": "1bc1694f-96a2-4b1b-8fb3-ea178aea7d12"
      },
      "outputs": [],
      "source": [
        "df['magnitude'] = df.apply(magnitude_function, axis=1) # combina X, Y, Z para calcular la aceleracion total\n",
        "\n",
        "df['energy'] = df.apply(compute_energy,  axis=1) #Se utiliza a menudo en modelos de reconocimiento de actividad. Es la suma de cuadrados sobre una ventana (indica la intensidad del movimiento).\n",
        "\n",
        "df['tilt_x'] =  df.apply(tilt_x, axis=1) # Puede calcular el ángulo de inclinación con respecto a cada eje (por ejemplo, con respecto a la gravedad):\n",
        "\n",
        "df['motion_state'] = df['magnitude'].apply(classify_motion) # determina si esta en estado estacinario o activo\n",
        "\n"
      ]
    },
    {
      "cell_type": "code",
      "execution_count": null,
      "id": "ea55323b-200c-4703-95a3-cd776a01c425",
      "metadata": {
        "id": "ea55323b-200c-4703-95a3-cd776a01c425",
        "outputId": "dfe2c57a-5274-46d5-9ea1-6d7675d5713a"
      },
      "outputs": [
        {
          "data": {
            "text/html": [
              "<div>\n",
              "<style scoped>\n",
              "    .dataframe tbody tr th:only-of-type {\n",
              "        vertical-align: middle;\n",
              "    }\n",
              "\n",
              "    .dataframe tbody tr th {\n",
              "        vertical-align: top;\n",
              "    }\n",
              "\n",
              "    .dataframe thead th {\n",
              "        text-align: right;\n",
              "    }\n",
              "</style>\n",
              "<table border=\"1\" class=\"dataframe\">\n",
              "  <thead>\n",
              "    <tr style=\"text-align: right;\">\n",
              "      <th></th>\n",
              "      <th>wconfid</th>\n",
              "      <th>pctid</th>\n",
              "      <th>x</th>\n",
              "      <th>y</th>\n",
              "      <th>z</th>\n",
              "      <th>magnitude</th>\n",
              "      <th>energy</th>\n",
              "      <th>tilt_x</th>\n",
              "      <th>motion_state</th>\n",
              "    </tr>\n",
              "  </thead>\n",
              "  <tbody>\n",
              "    <tr>\n",
              "      <th>0</th>\n",
              "      <td>1</td>\n",
              "      <td>20</td>\n",
              "      <td>1.004</td>\n",
              "      <td>0.090</td>\n",
              "      <td>-0.125</td>\n",
              "      <td>1.015747</td>\n",
              "      <td>1.031741</td>\n",
              "      <td>81.277940</td>\n",
              "      <td>Idle</td>\n",
              "    </tr>\n",
              "    <tr>\n",
              "      <th>1</th>\n",
              "      <td>1</td>\n",
              "      <td>20</td>\n",
              "      <td>1.004</td>\n",
              "      <td>-0.043</td>\n",
              "      <td>-0.125</td>\n",
              "      <td>1.012665</td>\n",
              "      <td>1.025490</td>\n",
              "      <td>82.499431</td>\n",
              "      <td>Idle</td>\n",
              "    </tr>\n",
              "    <tr>\n",
              "      <th>2</th>\n",
              "      <td>1</td>\n",
              "      <td>20</td>\n",
              "      <td>0.969</td>\n",
              "      <td>0.090</td>\n",
              "      <td>-0.121</td>\n",
              "      <td>0.980664</td>\n",
              "      <td>0.961702</td>\n",
              "      <td>81.154268</td>\n",
              "      <td>Idle</td>\n",
              "    </tr>\n",
              "    <tr>\n",
              "      <th>3</th>\n",
              "      <td>1</td>\n",
              "      <td>20</td>\n",
              "      <td>0.973</td>\n",
              "      <td>-0.012</td>\n",
              "      <td>-0.137</td>\n",
              "      <td>0.982671</td>\n",
              "      <td>0.965642</td>\n",
              "      <td>81.955061</td>\n",
              "      <td>Idle</td>\n",
              "    </tr>\n",
              "    <tr>\n",
              "      <th>4</th>\n",
              "      <td>1</td>\n",
              "      <td>20</td>\n",
              "      <td>1.000</td>\n",
              "      <td>-0.016</td>\n",
              "      <td>-0.121</td>\n",
              "      <td>1.007421</td>\n",
              "      <td>1.014897</td>\n",
              "      <td>83.041281</td>\n",
              "      <td>Idle</td>\n",
              "    </tr>\n",
              "  </tbody>\n",
              "</table>\n",
              "</div>"
            ],
            "text/plain": [
              "   wconfid  pctid      x      y      z  magnitude    energy     tilt_x  \\\n",
              "0        1     20  1.004  0.090 -0.125   1.015747  1.031741  81.277940   \n",
              "1        1     20  1.004 -0.043 -0.125   1.012665  1.025490  82.499431   \n",
              "2        1     20  0.969  0.090 -0.121   0.980664  0.961702  81.154268   \n",
              "3        1     20  0.973 -0.012 -0.137   0.982671  0.965642  81.955061   \n",
              "4        1     20  1.000 -0.016 -0.121   1.007421  1.014897  83.041281   \n",
              "\n",
              "  motion_state  \n",
              "0         Idle  \n",
              "1         Idle  \n",
              "2         Idle  \n",
              "3         Idle  \n",
              "4         Idle  "
            ]
          },
          "execution_count": 27,
          "metadata": {},
          "output_type": "execute_result"
        }
      ],
      "source": [
        "df.head()"
      ]
    },
    {
      "cell_type": "code",
      "execution_count": null,
      "id": "818da3e5-9aa4-46c8-be94-f30c39cd1686",
      "metadata": {
        "id": "818da3e5-9aa4-46c8-be94-f30c39cd1686",
        "outputId": "4e32320e-470b-48db-95a8-8880cb4deccb"
      },
      "outputs": [
        {
          "name": "stdout",
          "output_type": "stream",
          "text": [
            "<class 'pandas.core.frame.DataFrame'>\n",
            "RangeIndex: 153000 entries, 0 to 152999\n",
            "Data columns (total 9 columns):\n",
            " #   Column        Non-Null Count   Dtype  \n",
            "---  ------        --------------   -----  \n",
            " 0   wconfid       153000 non-null  int64  \n",
            " 1   pctid         153000 non-null  int64  \n",
            " 2   x             153000 non-null  float64\n",
            " 3   y             153000 non-null  float64\n",
            " 4   z             153000 non-null  float64\n",
            " 5   magnitude     153000 non-null  float64\n",
            " 6   energy        153000 non-null  float64\n",
            " 7   tilt_x        153000 non-null  float64\n",
            " 8   motion_state  153000 non-null  object \n",
            "dtypes: float64(6), int64(2), object(1)\n",
            "memory usage: 10.5+ MB\n"
          ]
        }
      ],
      "source": [
        "df.info()"
      ]
    },
    {
      "cell_type": "markdown",
      "id": "4fa09eb0-5efa-467e-9744-8c963ceddb1d",
      "metadata": {
        "id": "4fa09eb0-5efa-467e-9744-8c963ceddb1d"
      },
      "source": [
        "## Visualización de Datos\n",
        "\n",
        "Se generan dos visualizaciones:\n",
        "\n",
        "- Un gráfico de línea de las aceleraciones en los ejes `x`, `y`, `z` a lo largo del tiempo.\n",
        "- Un histograma de la energía de la señal, que muestra la distribución de intensidad del movimiento.\n",
        "\n",
        "Ambos gráficos están etiquetados con unidades físicas correspondientes.\n"
      ]
    },
    {
      "cell_type": "code",
      "execution_count": null,
      "id": "ba66b48a-760c-4db4-9944-0cd343566c99",
      "metadata": {
        "id": "ba66b48a-760c-4db4-9944-0cd343566c99",
        "outputId": "82e48d01-3076-4570-b8a1-42548d50423f"
      },
      "outputs": [
        {
          "data": {
            "image/png": "[encoded data removed]",
            "text/plain": [
              "<Figure size 1400x500 with 1 Axes>"
            ]
          },
          "metadata": {},
          "output_type": "display_data"
        }
      ],
      "source": [
        "plt.figure(figsize=(14, 5))\n",
        "plt.plot(df['x'], label='X-axis')\n",
        "plt.plot(df['y'], label='Y-axis')\n",
        "plt.plot(df['z'], label='Z-axis')\n",
        "plt.title('Accelerometer Axes Over Time')\n",
        "plt.xlabel('Time [s]')\n",
        "plt.ylabel('Acceleration [m/s²]')\n",
        "plt.legend()\n",
        "plt.grid()\n",
        "plt.show()"
      ]
    },
    {
      "cell_type": "code",
      "execution_count": null,
      "id": "7d43e7d8-2b9f-48ef-a59c-0ad436edeb40",
      "metadata": {
        "id": "7d43e7d8-2b9f-48ef-a59c-0ad436edeb40",
        "outputId": "980a4cc7-36e1-4706-f877-2896cb6a99b2"
      },
      "outputs": [
        {
          "data": {
            "image/png": "[encoded data removed]",
            "text/plain": [
              "<Figure size 800x500 with 1 Axes>"
            ]
          },
          "metadata": {},
          "output_type": "display_data"
        }
      ],
      "source": [
        "plt.figure(figsize=(8, 5))\n",
        "plt.hist(df['energy'], bins=50, color='purple', edgecolor='black')\n",
        "plt.title('Histogram of Signal Energy')\n",
        "plt.xlabel('Energy [(m/s²)²]')\n",
        "plt.ylabel('Frequency [Hz]')\n",
        "plt.grid()\n",
        "plt.show()"
      ]
    },
    {
      "cell_type": "markdown",
      "id": "61348b01-4f91-462d-9e5c-d5d0ffdbd2f3",
      "metadata": {
        "id": "61348b01-4f91-462d-9e5c-d5d0ffdbd2f3"
      },
      "source": [
        "## Conclusión\n",
        "\n",
        "Este análisis permite observar el comportamiento del sistema mecánico a través de sensores de aceleración. Las nuevas columnas generadas facilitan la detección de patrones de movimiento y podrían ser utilizadas en modelos de predicción de fallos o clasificación de estados del sistema. Se ha cumplido con el objetivo de aplicar herramientas de ciencia de datos e inteligencia artificial en un entorno colaborativo.\n",
        "\n",
        "**Links:**\n",
        "- [Notebook en Google Colab](https://colab.research.google.com/github/martz84/aplicaciones-colaborativas/blob/main/Lab1.ipynb)\n",
        "- [Repositorio en GitHub](https://github.com/martz84/aplicaciones-colaborativas.git)\n",
        "\n"
      ]
    },
    {
      "cell_type": "code",
      "execution_count": null,
      "id": "61c5e3b1-3d88-4884-a465-bd2931ddd13c",
      "metadata": {
        "id": "61c5e3b1-3d88-4884-a465-bd2931ddd13c"
      },
      "outputs": [],
      "source": []
    }
  ],
  "metadata": {
    "kernelspec": {
      "display_name": "Python 3 (ipykernel)",
      "language": "python",
      "name": "python3"
    },
    "language_info": {
      "codemirror_mode": {
        "name": "ipython",
        "version": 3
      },
      "file_extension": ".py",
      "mimetype": "text/x-python",
      "name": "python",
      "nbconvert_exporter": "python",
      "pygments_lexer": "ipython3",
      "version": "3.11.0"
    },
    "colab": {
      "provenance": []
    }
  },
  "nbformat": 4,
  "nbformat_minor": 5
}